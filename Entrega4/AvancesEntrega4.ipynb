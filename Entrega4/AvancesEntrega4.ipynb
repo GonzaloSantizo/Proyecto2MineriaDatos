{
  "nbformat": 4,
  "nbformat_minor": 0,
  "metadata": {
    "colab": {
      "provenance": []
    },
    "kernelspec": {
      "name": "python3",
      "display_name": "Python 3"
    },
    "language_info": {
      "name": "python"
    }
  },
  "cells": [
    {
      "cell_type": "code",
      "execution_count": 3,
      "metadata": {
        "colab": {
          "base_uri": "https://localhost:8080/"
        },
        "id": "NI9CfCK3VJCI",
        "outputId": "cea5efab-33c7-4886-c8da-5bcd606ff355"
      },
      "outputs": [
        {
          "output_type": "stream",
          "name": "stdout",
          "text": [
            "Error cuadrático medio (MSE): 1392462552.2032876\n",
            "Error absoluto medio (MAE): 23562.21780821918\n",
            "\n",
            "Explicación de los resultados:\n",
            "    El MSE mide el promedio del cuadrado de los errores entre las predicciones y los valores reales.\n",
            "    El MAE mide el promedio del valor absoluto de los errores.\n",
            "    Valores más bajos de MSE y MAE indican un mejor rendimiento del modelo.\n"
          ]
        },
        {
          "output_type": "stream",
          "name": "stderr",
          "text": [
            "<ipython-input-3-4a20c8cb6c11>:16: FutureWarning: A value is trying to be set on a copy of a DataFrame or Series through chained assignment using an inplace method.\n",
            "The behavior will change in pandas 3.0. This inplace method will never work because the intermediate object on which we are setting values always behaves as a copy.\n",
            "\n",
            "For example, when doing 'df[col].method(value, inplace=True)', try using 'df.method({col: value}, inplace=True)' or df[col] = df[col].method(value) instead, to perform the operation inplace on the original object.\n",
            "\n",
            "\n",
            "  data[feature].fillna(data[feature].median(), inplace=True)\n"
          ]
        }
      ],
      "source": [
        "import pandas as pd\n",
        "from sklearn.model_selection import train_test_split\n",
        "from sklearn.neighbors import KNeighborsRegressor\n",
        "from sklearn.metrics import mean_squared_error, mean_absolute_error\n",
        "from sklearn.preprocessing import StandardScaler\n",
        "\n",
        "# 1. Cargar y preparar los datos\n",
        "data = pd.read_csv('train.csv')  # Reemplaza 'train.csv' con la ruta a tu archivo\n",
        "\n",
        "# Seleccionar características relevantes y variable objetivo\n",
        "features = ['LotArea', 'OverallQual', 'GrLivArea', 'GarageCars']  # Puedes ajustar esto\n",
        "target = 'SalePrice'\n",
        "\n",
        "# Manejar valores faltantes (rellenar con la mediana para este ejemplo)\n",
        "for feature in features:\n",
        "    data[feature].fillna(data[feature].median(), inplace=True)\n",
        "\n",
        "# Crear conjuntos de entrenamiento y prueba\n",
        "X_train, X_test, y_train, y_test = train_test_split(\n",
        "    data[features], data[target], test_size=0.2, random_state=42\n",
        ")\n",
        "\n",
        "# Escalar las características\n",
        "scaler = StandardScaler()\n",
        "X_train_scaled = scaler.fit_transform(X_train)\n",
        "X_test_scaled = scaler.transform(X_test)\n",
        "\n",
        "# 2. Entrenar el modelo KNN\n",
        "knn = KNeighborsRegressor(n_neighbors=5)\n",
        "knn.fit(X_train_scaled, y_train)\n",
        "\n",
        "# 3. Predecir con el modelo\n",
        "y_pred = knn.predict(X_test_scaled)\n",
        "\n",
        "# 4. Evaluar el modelo\n",
        "mse = mean_squared_error(y_test, y_pred)\n",
        "mae = mean_absolute_error(y_test, y_pred)\n",
        "print(f'Error cuadrático medio (MSE): {mse}')\n",
        "print(f'Error absoluto medio (MAE): {mae}')\n",
        "print(\n",
        "    \"\"\"\\nExplicación de los resultados:\n",
        "    El MSE mide el promedio del cuadrado de los errores entre las predicciones y los valores reales.\n",
        "    El MAE mide el promedio del valor absoluto de los errores.\n",
        "    Valores más bajos de MSE y MAE indican un mejor rendimiento del modelo.\"\"\"\n",
        ")"
      ]
    },
    {
      "cell_type": "markdown",
      "source": [
        "**Métricas de evaluación**\n",
        "\n",
        "\n",
        "\n",
        "    Error Cuadrático Medio (MSE): Representa el promedio del cuadrado de las diferencias entre las predicciones del modelo y los valores reales. Un MSE más bajo indica un mejor rendimiento, ya que significa que los errores son menores.\n",
        "\n",
        "    Error Absoluto Medio (MAE): Representa el promedio de los valores absolutos de las diferencias entre las predicciones del modelo y los valores reales. Similar al MSE, un MAE más bajo es mejor.\n",
        "\n",
        "**Análisis del rendimiento**\n",
        "\n",
        "\n",
        "    Valores bajos de MSE y MAE sugieren que el modelo está haciendo un buen trabajo en la predicción de 'SalePrice' (precio de venta) en función de las características seleccionadas ('LotArea', 'OverallQual', 'GrLivArea', 'GarageCars').\n",
        "\n",
        "    Valores altos de MSE y MAE indicarían que el modelo no está prediciendo con precisión.\n",
        "\n"
      ],
      "metadata": {
        "id": "zl4xtK7wYQXu"
      }
    },
    {
      "cell_type": "code",
      "source": [
        "import numpy as np\n",
        "import pandas as pd\n",
        "from sklearn.model_selection import train_test_split\n",
        "from sklearn.ensemble import RandomForestClassifier\n",
        "from sklearn.metrics import classification_report\n",
        "from sklearn.preprocessing import LabelEncoder\n",
        "\n",
        "# Load the training data\n",
        "df = pd.read_csv('train.csv')\n",
        "\n",
        "# Define price categories\n",
        "df['price_category'] = pd.qcut(df['SalePrice'], 3, labels=[\"cheap\", \"medium\", \"expensive\"])\n",
        "\n",
        "# Drop the original SalePrice column\n",
        "df = df.drop(columns=['SalePrice'])\n",
        "\n",
        "# Separate features and target variable\n",
        "X = df.drop(columns=['price_category'])\n",
        "y = df['price_category']\n",
        "\n",
        "# Identify numerical and categorical columns\n",
        "numerical_cols = X.select_dtypes(include=np.number).columns\n",
        "categorical_cols = X.select_dtypes(include=['object']).columns\n",
        "\n",
        "# Impute missing values\n",
        "X[numerical_cols] = X[numerical_cols].fillna(X[numerical_cols].median())\n",
        "X[categorical_cols] = X[categorical_cols].fillna(X[categorical_cols].mode().iloc[0])\n",
        "\n",
        "# Encode categorical variables\n",
        "for col in categorical_cols:\n",
        "    X[col] = LabelEncoder().fit_transform(X[col])\n",
        "\n",
        "# Split data into training and testing sets\n",
        "X_train, X_test, y_train, y_test = train_test_split(X, y, test_size=0.3, random_state=42)\n",
        "\n",
        "# Train a RandomForestClassifier model\n",
        "model = RandomForestClassifier(random_state=42)\n",
        "model.fit(X_train, y_train)\n",
        "\n",
        "# Make predictions\n",
        "y_pred = model.predict(X_test)\n",
        "\n",
        "# Evaluate the model\n",
        "print(classification_report(y_test, y_pred))"
      ],
      "metadata": {
        "colab": {
          "base_uri": "https://localhost:8080/"
        },
        "id": "dmiE5sqYY4NT",
        "outputId": "5d2862fd-fb9f-460b-cba8-297a7292cccc"
      },
      "execution_count": 5,
      "outputs": [
        {
          "output_type": "stream",
          "name": "stdout",
          "text": [
            "              precision    recall  f1-score   support\n",
            "\n",
            "       cheap       0.80      0.90      0.85       155\n",
            "   expensive       0.90      0.88      0.89       139\n",
            "      medium       0.75      0.68      0.72       144\n",
            "\n",
            "    accuracy                           0.82       438\n",
            "   macro avg       0.82      0.82      0.82       438\n",
            "weighted avg       0.82      0.82      0.82       438\n",
            "\n"
          ]
        }
      ]
    },
    {
      "cell_type": "markdown",
      "source": [
        "5. eficiencia del algoritmo\n",
        "\n",
        "- Precisión: 83\n",
        "- Precisión: La precisión para cada categoría (barato, caro y medio) oscila entre el 78% y el 91%, lo que indica un nivel de precisión de moderado a alto en la predicción de cada categoría.\n",
        "- Recuperación: La recuperación de cada categoría oscila entre el 69% y el 90%, lo que muestra la variabilidad en la capacidad del modelo para capturar todos los casos de cada categoría.\n",
        "Puntuación F1: Las puntuaciones F1, que oscilan entre el 73% y el 91%, reflejan un equilibrio entre precisión y recuperación para cada categoría."
      ],
      "metadata": {
        "id": "iWhZaZqua8U8"
      }
    },
    {
      "cell_type": "code",
      "source": [
        "import numpy as np\n",
        "from sklearn.model_selection import train_test_split\n",
        "from sklearn.ensemble import RandomForestRegressor\n",
        "from sklearn.metrics import confusion_matrix\n",
        "import pandas as pd\n",
        "import seaborn as sns\n",
        "import matplotlib.pyplot as plt\n",
        "\n",
        "# Load the dataframe\n",
        "df = pd.read_csv('train.csv')\n",
        "\n",
        "# Select numerical columns as features\n",
        "numerical_cols = df.select_dtypes(include=np.number).columns.tolist()\n",
        "features = [col for col in numerical_cols if col != 'SalePrice']\n",
        "\n",
        "# Define target variable\n",
        "target = 'SalePrice'\n",
        "\n",
        "# Split data into training and testing sets\n",
        "X_train, X_test, y_train, y_test = train_test_split(df[features], df[target], test_size=0.2, random_state=42)\n",
        "\n",
        "# Train a RandomForestRegressor model\n",
        "model = RandomForestRegressor(random_state=42)\n",
        "model.fit(X_train, y_train)\n",
        "\n",
        "# Make predictions on the test set\n",
        "predictions = model.predict(X_test)\n",
        "\n",
        "# Define bin edges and labels\n",
        "bin_edges = np.linspace(predictions.min(), predictions.max(), num=6)\n",
        "bin_labels = ['Muy Bajo', 'Bajo', 'Medio', 'Alto', 'Muy Alto']\n",
        "\n",
        "# Bin the predictions\n",
        "binned_predictions = pd.cut(predictions, bins=bin_edges, labels=bin_labels, include_lowest=True)\n",
        "\n",
        "# Bin the actual target values\n",
        "binned_actual = pd.cut(y_test, bins=bin_edges, labels=bin_labels, include_lowest=True)\n",
        "\n",
        "# Ensure binned predictions are converted to strings\n",
        "binned_predictions_str = binned_predictions.astype(str)\n",
        "binned_actual_str = binned_actual.astype(str)\n",
        "\n",
        "# Generate confusion matrix\n",
        "conf_matrix = confusion_matrix(binned_actual_str, binned_predictions_str, labels=bin_labels)\n",
        "\n",
        "# Create a DataFrame for the confusion matrix\n",
        "conf_matrix_df = pd.DataFrame(conf_matrix, index=bin_labels, columns=bin_labels)\n",
        "\n",
        "# Print the confusion matrix\n",
        "print(\"Confusion Matrix:\\n\")\n",
        "print(conf_matrix_df.to_markdown(numalign=\"left\", stralign=\"left\"))\n",
        "\n",
        "# Visualize the confusion matrix\n",
        "plt.figure(figsize=(8, 6))\n",
        "sns.heatmap(conf_matrix, annot=True, fmt='d', cmap='Blues', xticklabels=bin_labels, yticklabels=bin_labels)\n",
        "plt.title('Matriz de Confusión')\n",
        "plt.xlabel('Valor Predicho')\n",
        "plt.ylabel('Valor Real')\n",
        "plt.show()"
      ],
      "metadata": {
        "colab": {
          "base_uri": "https://localhost:8080/",
          "height": 725
        },
        "id": "2ABqtnLZbHb0",
        "outputId": "dde582fc-c441-418b-cb6a-c468456695dd"
      },
      "execution_count": 7,
      "outputs": [
        {
          "output_type": "stream",
          "name": "stdout",
          "text": [
            "Confusion Matrix:\n",
            "\n",
            "|          | Muy Bajo   | Bajo   | Medio   | Alto   | Muy Alto   |\n",
            "|:---------|:-----------|:-------|:--------|:-------|:-----------|\n",
            "| Muy Bajo | 152        | 9      | 0       | 0      | 0          |\n",
            "| Bajo     | 10         | 75     | 6       | 0      | 0          |\n",
            "| Medio    | 0          | 7      | 21      | 0      | 0          |\n",
            "| Alto     | 0          | 0      | 3       | 2      | 0          |\n",
            "| Muy Alto | 0          | 0      | 0       | 1      | 0          |\n"
          ]
        },
        {
          "output_type": "display_data",
          "data": {
            "text/plain": [
              "<Figure size 800x600 with 2 Axes>"
            ],
            "image/png": "[encoded data removed]"
          },
          "metadata": {}
        }
      ]
    },
    {
      "cell_type": "markdown",
      "source": [
        "7. Podria estar sobre ajustado el modelo?\n",
        "\n",
        "En la matriz podemos observar que la categoria de muy bajo tiene una dominancia en nuestro set de datos. Esto me indica que si esta sobre ajustado hacia esa metrica."
      ],
      "metadata": {
        "id": "A7ccOm-CcA1G"
      }
    },
    {
      "cell_type": "code",
      "source": [
        "import numpy as np\n",
        "from sklearn.model_selection import train_test_split, cross_val_score, KFold\n",
        "from sklearn.ensemble import RandomForestRegressor\n",
        "from sklearn.metrics import r2_score\n",
        "import pandas as pd\n",
        "\n",
        "# Load the dataframe\n",
        "df = pd.read_csv('train.csv')\n",
        "\n",
        "# Select numerical columns as features\n",
        "numerical_cols = df.select_dtypes(include=np.number).columns.tolist()\n",
        "features = [col for col in numerical_cols if col != 'SalePrice']  # Corrected target variable\n",
        "\n",
        "# Define target variable\n",
        "target = 'SalePrice'  # Corrected target variable\n",
        "\n",
        "# Split data into training and testing sets\n",
        "X_train, X_test, y_train, y_test = train_test_split(df[features], df[target], test_size=0.2, random_state=42)\n",
        "\n",
        "# Train a RandomForestRegressor model\n",
        "model = RandomForestRegressor(random_state=42)\n",
        "model.fit(X_train, y_train)\n",
        "\n",
        "# Make predictions on the test set\n",
        "predictions = model.predict(X_test)\n",
        "\n",
        "# Evaluate model performance on training data\n",
        "r2_train = r2_score(y_train, model.predict(X_train))\n",
        "print(f\"R^2 score on training data: {r2_train:.4f}\")\n",
        "\n",
        "# Evaluate model performance on test data\n",
        "r2_test = r2_score(y_test, predictions)\n",
        "print(f\"R^2 score on test data: {r2_test:.4f}\")\n",
        "\n",
        "# Perform 5-fold cross-validation\n",
        "cv_scores = cross_val_score(model, df[features], df[target], cv=5, scoring='r2')\n",
        "print(f\"Cross-validation R^2 scores: {cv_scores}\")\n",
        "print(f\"Mean cross-validation R^2 score: {cv_scores.mean():.4f}\")\n",
        "\n",
        "# Compare results\n",
        "print(\"\\nComparison of Results:\")\n",
        "print(f\"- R^2 score on test data: {r2_test:.4f}\")\n",
        "print(f\"- Mean cross-validation R^2 score: {cv_scores.mean():.4f}\")\n",
        "\n",
        "if r2_test > cv_scores.mean():\n",
        "    print(\"\\nThe model performed better on the test data than in the cross-validation.\")\n",
        "elif r2_test < cv_scores.mean():\n",
        "    print(\"\\nThe model performed better in the cross-validation than on the test data.\")\n",
        "else:\n",
        "    print(\"\\nThe model performed similarly on the test data and in the cross-validation.\")"
      ],
      "metadata": {
        "colab": {
          "base_uri": "https://localhost:8080/"
        },
        "id": "tIIBeWTFcYE0",
        "outputId": "3d32db14-dec9-44d3-d52d-2f6061ca85c2"
      },
      "execution_count": 11,
      "outputs": [
        {
          "output_type": "stream",
          "name": "stdout",
          "text": [
            "R^2 score on training data: 0.9787\n",
            "R^2 score on test data: 0.8903\n",
            "Cross-validation R^2 scores: [0.86471591 0.82962075 0.86963002 0.87376737 0.80189232]\n",
            "Mean cross-validation R^2 score: 0.8479\n",
            "\n",
            "Comparison of Results:\n",
            "- R^2 score on test data: 0.8903\n",
            "- Mean cross-validation R^2 score: 0.8479\n",
            "\n",
            "The model performed better on the test data than in the cross-validation.\n"
          ]
        }
      ]
    }
  ]
}